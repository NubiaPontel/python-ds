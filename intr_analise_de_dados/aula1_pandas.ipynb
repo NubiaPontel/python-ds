{
 "cells": [
  {
   "cell_type": "markdown",
   "metadata": {},
   "source": [
    "## Introdução a biblioteca Pandas"
   ]
  },
  {
   "cell_type": "code",
   "execution_count": 2,
   "metadata": {},
   "outputs": [],
   "source": [
    "import pandas as pd"
   ]
  },
  {
   "cell_type": "code",
   "execution_count": 3,
   "metadata": {
    "scrolled": true
   },
   "outputs": [],
   "source": [
    "df = pd.read_csv('data/Gapminder.csv')"
   ]
  },
  {
   "cell_type": "code",
   "execution_count": 4,
   "metadata": {},
   "outputs": [
    {
     "data": {
      "text/html": [
       "<div>\n",
       "<style scoped>\n",
       "    .dataframe tbody tr th:only-of-type {\n",
       "        vertical-align: middle;\n",
       "    }\n",
       "\n",
       "    .dataframe tbody tr th {\n",
       "        vertical-align: top;\n",
       "    }\n",
       "\n",
       "    .dataframe thead th {\n",
       "        text-align: right;\n",
       "    }\n",
       "</style>\n",
       "<table border=\"1\" class=\"dataframe\">\n",
       "  <thead>\n",
       "    <tr style=\"text-align: right;\">\n",
       "      <th></th>\n",
       "      <th>country</th>\n",
       "      <th>continent</th>\n",
       "      <th>year</th>\n",
       "      <th>lifeExp</th>\n",
       "      <th>pop</th>\n",
       "      <th>gdpPercap</th>\n",
       "      <th>Unnamed: 6</th>\n",
       "    </tr>\n",
       "  </thead>\n",
       "  <tbody>\n",
       "    <tr>\n",
       "      <th>0</th>\n",
       "      <td>Afghanistan</td>\n",
       "      <td>Asia</td>\n",
       "      <td>1952</td>\n",
       "      <td>28801.00</td>\n",
       "      <td>8425333.0</td>\n",
       "      <td>779.445314</td>\n",
       "      <td>NaN</td>\n",
       "    </tr>\n",
       "    <tr>\n",
       "      <th>1</th>\n",
       "      <td>Afghanistan</td>\n",
       "      <td>Asia</td>\n",
       "      <td>1957</td>\n",
       "      <td>30332.00</td>\n",
       "      <td>9240934.0</td>\n",
       "      <td>820.853030</td>\n",
       "      <td>NaN</td>\n",
       "    </tr>\n",
       "    <tr>\n",
       "      <th>2</th>\n",
       "      <td>Afghanistan</td>\n",
       "      <td>Asia</td>\n",
       "      <td>1962</td>\n",
       "      <td>31997.00</td>\n",
       "      <td>10267083.0</td>\n",
       "      <td>853.100710</td>\n",
       "      <td>NaN</td>\n",
       "    </tr>\n",
       "    <tr>\n",
       "      <th>3</th>\n",
       "      <td>Afghanistan</td>\n",
       "      <td>Asia</td>\n",
       "      <td>1967</td>\n",
       "      <td>34.02</td>\n",
       "      <td>11537966.0</td>\n",
       "      <td>836.197138</td>\n",
       "      <td>NaN</td>\n",
       "    </tr>\n",
       "    <tr>\n",
       "      <th>4</th>\n",
       "      <td>Afghanistan</td>\n",
       "      <td>Asia</td>\n",
       "      <td>1972</td>\n",
       "      <td>36088.00</td>\n",
       "      <td>13079460.0</td>\n",
       "      <td>739.981106</td>\n",
       "      <td>NaN</td>\n",
       "    </tr>\n",
       "  </tbody>\n",
       "</table>\n",
       "</div>"
      ],
      "text/plain": [
       "       country continent  year   lifeExp         pop   gdpPercap  Unnamed: 6\n",
       "0  Afghanistan      Asia  1952  28801.00   8425333.0  779.445314         NaN\n",
       "1  Afghanistan      Asia  1957  30332.00   9240934.0  820.853030         NaN\n",
       "2  Afghanistan      Asia  1962  31997.00  10267083.0  853.100710         NaN\n",
       "3  Afghanistan      Asia  1967     34.02  11537966.0  836.197138         NaN\n",
       "4  Afghanistan      Asia  1972  36088.00  13079460.0  739.981106         NaN"
      ]
     },
     "execution_count": 4,
     "metadata": {},
     "output_type": "execute_result"
    }
   ],
   "source": [
    "#visualizando as 5 primeiras linhas:\n",
    "df.head()"
   ]
  },
  {
   "cell_type": "code",
   "execution_count": 5,
   "metadata": {},
   "outputs": [],
   "source": [
    "df = df.rename(columns={\"country\":\"Pais\", \"continent\": \"continente\", \"year\":\"Ano\", \"lifeExp\":\"Expectativa de vida\", \"pop\":\"Pop Total\", \"gdpPercap\": \"PIB\"})"
   ]
  },
  {
   "cell_type": "code",
   "execution_count": 6,
   "metadata": {},
   "outputs": [
    {
     "data": {
      "text/html": [
       "<div>\n",
       "<style scoped>\n",
       "    .dataframe tbody tr th:only-of-type {\n",
       "        vertical-align: middle;\n",
       "    }\n",
       "\n",
       "    .dataframe tbody tr th {\n",
       "        vertical-align: top;\n",
       "    }\n",
       "\n",
       "    .dataframe thead th {\n",
       "        text-align: right;\n",
       "    }\n",
       "</style>\n",
       "<table border=\"1\" class=\"dataframe\">\n",
       "  <thead>\n",
       "    <tr style=\"text-align: right;\">\n",
       "      <th></th>\n",
       "      <th>Pais</th>\n",
       "      <th>continente</th>\n",
       "      <th>Ano</th>\n",
       "      <th>Expectativa de vida</th>\n",
       "      <th>Pop Total</th>\n",
       "      <th>PIB</th>\n",
       "      <th>Unnamed: 6</th>\n",
       "    </tr>\n",
       "  </thead>\n",
       "  <tbody>\n",
       "    <tr>\n",
       "      <th>0</th>\n",
       "      <td>Afghanistan</td>\n",
       "      <td>Asia</td>\n",
       "      <td>1952</td>\n",
       "      <td>28801.00</td>\n",
       "      <td>8425333.0</td>\n",
       "      <td>779.445314</td>\n",
       "      <td>NaN</td>\n",
       "    </tr>\n",
       "    <tr>\n",
       "      <th>1</th>\n",
       "      <td>Afghanistan</td>\n",
       "      <td>Asia</td>\n",
       "      <td>1957</td>\n",
       "      <td>30332.00</td>\n",
       "      <td>9240934.0</td>\n",
       "      <td>820.853030</td>\n",
       "      <td>NaN</td>\n",
       "    </tr>\n",
       "    <tr>\n",
       "      <th>2</th>\n",
       "      <td>Afghanistan</td>\n",
       "      <td>Asia</td>\n",
       "      <td>1962</td>\n",
       "      <td>31997.00</td>\n",
       "      <td>10267083.0</td>\n",
       "      <td>853.100710</td>\n",
       "      <td>NaN</td>\n",
       "    </tr>\n",
       "    <tr>\n",
       "      <th>3</th>\n",
       "      <td>Afghanistan</td>\n",
       "      <td>Asia</td>\n",
       "      <td>1967</td>\n",
       "      <td>34.02</td>\n",
       "      <td>11537966.0</td>\n",
       "      <td>836.197138</td>\n",
       "      <td>NaN</td>\n",
       "    </tr>\n",
       "    <tr>\n",
       "      <th>4</th>\n",
       "      <td>Afghanistan</td>\n",
       "      <td>Asia</td>\n",
       "      <td>1972</td>\n",
       "      <td>36088.00</td>\n",
       "      <td>13079460.0</td>\n",
       "      <td>739.981106</td>\n",
       "      <td>NaN</td>\n",
       "    </tr>\n",
       "  </tbody>\n",
       "</table>\n",
       "</div>"
      ],
      "text/plain": [
       "          Pais continente   Ano  Expectativa de vida   Pop Total         PIB  \\\n",
       "0  Afghanistan       Asia  1952             28801.00   8425333.0  779.445314   \n",
       "1  Afghanistan       Asia  1957             30332.00   9240934.0  820.853030   \n",
       "2  Afghanistan       Asia  1962             31997.00  10267083.0  853.100710   \n",
       "3  Afghanistan       Asia  1967                34.02  11537966.0  836.197138   \n",
       "4  Afghanistan       Asia  1972             36088.00  13079460.0  739.981106   \n",
       "\n",
       "   Unnamed: 6  \n",
       "0         NaN  \n",
       "1         NaN  \n",
       "2         NaN  \n",
       "3         NaN  \n",
       "4         NaN  "
      ]
     },
     "execution_count": 6,
     "metadata": {},
     "output_type": "execute_result"
    }
   ],
   "source": [
    "df.head()"
   ]
  },
  {
   "cell_type": "code",
   "execution_count": 9,
   "metadata": {},
   "outputs": [
    {
     "data": {
      "text/plain": [
       "(3288, 7)"
      ]
     },
     "execution_count": 9,
     "metadata": {},
     "output_type": "execute_result"
    }
   ],
   "source": [
    "#Total de linhas e colunas\n",
    "df.shape"
   ]
  },
  {
   "cell_type": "code",
   "execution_count": 10,
   "metadata": {},
   "outputs": [
    {
     "data": {
      "text/plain": [
       "Index(['Pais', 'continente', 'Ano', 'Expectativa de vida', 'Pop Total', 'PIB',\n",
       "       'Unnamed: 6'],\n",
       "      dtype='object')"
      ]
     },
     "execution_count": 10,
     "metadata": {},
     "output_type": "execute_result"
    }
   ],
   "source": [
    "df.columns"
   ]
  },
  {
   "cell_type": "code",
   "execution_count": 12,
   "metadata": {},
   "outputs": [
    {
     "data": {
      "text/html": [
       "<div>\n",
       "<style scoped>\n",
       "    .dataframe tbody tr th:only-of-type {\n",
       "        vertical-align: middle;\n",
       "    }\n",
       "\n",
       "    .dataframe tbody tr th {\n",
       "        vertical-align: top;\n",
       "    }\n",
       "\n",
       "    .dataframe thead th {\n",
       "        text-align: right;\n",
       "    }\n",
       "</style>\n",
       "<table border=\"1\" class=\"dataframe\">\n",
       "  <thead>\n",
       "    <tr style=\"text-align: right;\">\n",
       "      <th></th>\n",
       "      <th>Pais</th>\n",
       "      <th>continente</th>\n",
       "      <th>Ano</th>\n",
       "      <th>Expectativa de vida</th>\n",
       "      <th>Pop Total</th>\n",
       "      <th>PIB</th>\n",
       "    </tr>\n",
       "  </thead>\n",
       "  <tbody>\n",
       "    <tr>\n",
       "      <th>0</th>\n",
       "      <td>Afghanistan</td>\n",
       "      <td>Asia</td>\n",
       "      <td>1952</td>\n",
       "      <td>28801.00</td>\n",
       "      <td>8425333.0</td>\n",
       "      <td>779.445314</td>\n",
       "    </tr>\n",
       "    <tr>\n",
       "      <th>1</th>\n",
       "      <td>Afghanistan</td>\n",
       "      <td>Asia</td>\n",
       "      <td>1957</td>\n",
       "      <td>30332.00</td>\n",
       "      <td>9240934.0</td>\n",
       "      <td>820.853030</td>\n",
       "    </tr>\n",
       "    <tr>\n",
       "      <th>2</th>\n",
       "      <td>Afghanistan</td>\n",
       "      <td>Asia</td>\n",
       "      <td>1962</td>\n",
       "      <td>31997.00</td>\n",
       "      <td>10267083.0</td>\n",
       "      <td>853.100710</td>\n",
       "    </tr>\n",
       "    <tr>\n",
       "      <th>3</th>\n",
       "      <td>Afghanistan</td>\n",
       "      <td>Asia</td>\n",
       "      <td>1967</td>\n",
       "      <td>34.02</td>\n",
       "      <td>11537966.0</td>\n",
       "      <td>836.197138</td>\n",
       "    </tr>\n",
       "    <tr>\n",
       "      <th>4</th>\n",
       "      <td>Afghanistan</td>\n",
       "      <td>Asia</td>\n",
       "      <td>1972</td>\n",
       "      <td>36088.00</td>\n",
       "      <td>13079460.0</td>\n",
       "      <td>739.981106</td>\n",
       "    </tr>\n",
       "    <tr>\n",
       "      <th>...</th>\n",
       "      <td>...</td>\n",
       "      <td>...</td>\n",
       "      <td>...</td>\n",
       "      <td>...</td>\n",
       "      <td>...</td>\n",
       "      <td>...</td>\n",
       "    </tr>\n",
       "    <tr>\n",
       "      <th>3283</th>\n",
       "      <td>NaN</td>\n",
       "      <td>NaN</td>\n",
       "      <td>NaN</td>\n",
       "      <td>NaN</td>\n",
       "      <td>NaN</td>\n",
       "      <td>NaN</td>\n",
       "    </tr>\n",
       "    <tr>\n",
       "      <th>3284</th>\n",
       "      <td>NaN</td>\n",
       "      <td>NaN</td>\n",
       "      <td>NaN</td>\n",
       "      <td>NaN</td>\n",
       "      <td>NaN</td>\n",
       "      <td>NaN</td>\n",
       "    </tr>\n",
       "    <tr>\n",
       "      <th>3285</th>\n",
       "      <td>NaN</td>\n",
       "      <td>NaN</td>\n",
       "      <td>NaN</td>\n",
       "      <td>NaN</td>\n",
       "      <td>NaN</td>\n",
       "      <td>NaN</td>\n",
       "    </tr>\n",
       "    <tr>\n",
       "      <th>3286</th>\n",
       "      <td>NaN</td>\n",
       "      <td>NaN</td>\n",
       "      <td>NaN</td>\n",
       "      <td>NaN</td>\n",
       "      <td>NaN</td>\n",
       "      <td>NaN</td>\n",
       "    </tr>\n",
       "    <tr>\n",
       "      <th>3287</th>\n",
       "      <td>NaN</td>\n",
       "      <td>NaN</td>\n",
       "      <td>NaN</td>\n",
       "      <td>NaN</td>\n",
       "      <td>NaN</td>\n",
       "      <td>NaN</td>\n",
       "    </tr>\n",
       "  </tbody>\n",
       "</table>\n",
       "<p>3288 rows × 6 columns</p>\n",
       "</div>"
      ],
      "text/plain": [
       "             Pais continente   Ano  Expectativa de vida   Pop Total  \\\n",
       "0     Afghanistan       Asia  1952             28801.00   8425333.0   \n",
       "1     Afghanistan       Asia  1957             30332.00   9240934.0   \n",
       "2     Afghanistan       Asia  1962             31997.00  10267083.0   \n",
       "3     Afghanistan       Asia  1967                34.02  11537966.0   \n",
       "4     Afghanistan       Asia  1972             36088.00  13079460.0   \n",
       "...           ...        ...   ...                  ...         ...   \n",
       "3283          NaN        NaN   NaN                  NaN         NaN   \n",
       "3284          NaN        NaN   NaN                  NaN         NaN   \n",
       "3285          NaN        NaN   NaN                  NaN         NaN   \n",
       "3286          NaN        NaN   NaN                  NaN         NaN   \n",
       "3287          NaN        NaN   NaN                  NaN         NaN   \n",
       "\n",
       "             PIB  \n",
       "0     779.445314  \n",
       "1     820.853030  \n",
       "2     853.100710  \n",
       "3     836.197138  \n",
       "4     739.981106  \n",
       "...          ...  \n",
       "3283         NaN  \n",
       "3284         NaN  \n",
       "3285         NaN  \n",
       "3286         NaN  \n",
       "3287         NaN  \n",
       "\n",
       "[3288 rows x 6 columns]"
      ]
     },
     "execution_count": 12,
     "metadata": {},
     "output_type": "execute_result"
    }
   ],
   "source": [
    "#removendo coluna estranha\n",
    "df.drop(columns=['Unnamed: 6'])"
   ]
  },
  {
   "cell_type": "code",
   "execution_count": 13,
   "metadata": {},
   "outputs": [
    {
     "data": {
      "text/plain": [
       "Pais                    object\n",
       "continente              object\n",
       "Ano                     object\n",
       "Expectativa de vida    float64\n",
       "Pop Total              float64\n",
       "PIB                    float64\n",
       "Unnamed: 6             float64\n",
       "dtype: object"
      ]
     },
     "execution_count": 13,
     "metadata": {},
     "output_type": "execute_result"
    }
   ],
   "source": [
    "df.dtypes"
   ]
  },
  {
   "cell_type": "code",
   "execution_count": 19,
   "metadata": {},
   "outputs": [
    {
     "data": {
      "text/html": [
       "<div>\n",
       "<style scoped>\n",
       "    .dataframe tbody tr th:only-of-type {\n",
       "        vertical-align: middle;\n",
       "    }\n",
       "\n",
       "    .dataframe tbody tr th {\n",
       "        vertical-align: top;\n",
       "    }\n",
       "\n",
       "    .dataframe thead th {\n",
       "        text-align: right;\n",
       "    }\n",
       "</style>\n",
       "<table border=\"1\" class=\"dataframe\">\n",
       "  <thead>\n",
       "    <tr style=\"text-align: right;\">\n",
       "      <th></th>\n",
       "      <th>Expectativa de vida</th>\n",
       "      <th>Pop Total</th>\n",
       "      <th>PIB</th>\n",
       "      <th>Unnamed: 6</th>\n",
       "    </tr>\n",
       "  </thead>\n",
       "  <tbody>\n",
       "    <tr>\n",
       "      <th>count</th>\n",
       "      <td>1351.000000</td>\n",
       "      <td>1.351000e+03</td>\n",
       "      <td>1.351000e+03</td>\n",
       "      <td>88.000000</td>\n",
       "    </tr>\n",
       "    <tr>\n",
       "      <th>mean</th>\n",
       "      <td>19768.812908</td>\n",
       "      <td>3.484068e+07</td>\n",
       "      <td>4.150654e+05</td>\n",
       "      <td>6980.478500</td>\n",
       "    </tr>\n",
       "    <tr>\n",
       "      <th>std</th>\n",
       "      <td>27847.943155</td>\n",
       "      <td>1.376156e+08</td>\n",
       "      <td>3.557558e+06</td>\n",
       "      <td>9588.641633</td>\n",
       "    </tr>\n",
       "    <tr>\n",
       "      <th>min</th>\n",
       "      <td>30.000000</td>\n",
       "      <td>5.204000e+01</td>\n",
       "      <td>2.998503e+02</td>\n",
       "      <td>241.165877</td>\n",
       "    </tr>\n",
       "    <tr>\n",
       "      <th>25%</th>\n",
       "      <td>70.235000</td>\n",
       "      <td>3.159342e+06</td>\n",
       "      <td>2.577155e+03</td>\n",
       "      <td>1587.582774</td>\n",
       "    </tr>\n",
       "    <tr>\n",
       "      <th>50%</th>\n",
       "      <td>75.360000</td>\n",
       "      <td>7.607651e+06</td>\n",
       "      <td>8.037950e+03</td>\n",
       "      <td>3484.113173</td>\n",
       "    </tr>\n",
       "    <tr>\n",
       "      <th>75%</th>\n",
       "      <td>46699.000000</td>\n",
       "      <td>1.122265e+07</td>\n",
       "      <td>1.779805e+04</td>\n",
       "      <td>5794.438345</td>\n",
       "    </tr>\n",
       "    <tr>\n",
       "      <th>max</th>\n",
       "      <td>81235.000000</td>\n",
       "      <td>1.318683e+09</td>\n",
       "      <td>6.460676e+07</td>\n",
       "      <td>54589.820240</td>\n",
       "    </tr>\n",
       "  </tbody>\n",
       "</table>\n",
       "</div>"
      ],
      "text/plain": [
       "       Expectativa de vida     Pop Total           PIB    Unnamed: 6\n",
       "count          1351.000000  1.351000e+03  1.351000e+03     88.000000\n",
       "mean          19768.812908  3.484068e+07  4.150654e+05   6980.478500\n",
       "std           27847.943155  1.376156e+08  3.557558e+06   9588.641633\n",
       "min              30.000000  5.204000e+01  2.998503e+02    241.165877\n",
       "25%              70.235000  3.159342e+06  2.577155e+03   1587.582774\n",
       "50%              75.360000  7.607651e+06  8.037950e+03   3484.113173\n",
       "75%           46699.000000  1.122265e+07  1.779805e+04   5794.438345\n",
       "max           81235.000000  1.318683e+09  6.460676e+07  54589.820240"
      ]
     },
     "execution_count": 19,
     "metadata": {},
     "output_type": "execute_result"
    }
   ],
   "source": [
    "df.describe()"
   ]
  },
  {
   "cell_type": "code",
   "execution_count": 20,
   "metadata": {},
   "outputs": [
    {
     "data": {
      "text/plain": [
       "array(['Asia', 'Europe', 'Africa', 'Americas', nan, 'FSU', ' Dem. Rep.',\n",
       "       ' Rep.', 'Oceania', ' China'], dtype=object)"
      ]
     },
     "execution_count": 20,
     "metadata": {},
     "output_type": "execute_result"
    }
   ],
   "source": [
    "df['continente'].unique()"
   ]
  },
  {
   "cell_type": "code",
   "execution_count": 21,
   "metadata": {},
   "outputs": [
    {
     "data": {
      "text/html": [
       "<div>\n",
       "<style scoped>\n",
       "    .dataframe tbody tr th:only-of-type {\n",
       "        vertical-align: middle;\n",
       "    }\n",
       "\n",
       "    .dataframe tbody tr th {\n",
       "        vertical-align: top;\n",
       "    }\n",
       "\n",
       "    .dataframe thead th {\n",
       "        text-align: right;\n",
       "    }\n",
       "</style>\n",
       "<table border=\"1\" class=\"dataframe\">\n",
       "  <thead>\n",
       "    <tr style=\"text-align: right;\">\n",
       "      <th></th>\n",
       "      <th>Pais</th>\n",
       "      <th>continente</th>\n",
       "      <th>Ano</th>\n",
       "      <th>Expectativa de vida</th>\n",
       "      <th>Pop Total</th>\n",
       "      <th>PIB</th>\n",
       "      <th>Unnamed: 6</th>\n",
       "    </tr>\n",
       "  </thead>\n",
       "  <tbody>\n",
       "    <tr>\n",
       "      <th>975</th>\n",
       "      <td>Fiji</td>\n",
       "      <td>Oceania</td>\n",
       "      <td>1962</td>\n",
       "      <td>56494.0</td>\n",
       "      <td>421869.0</td>\n",
       "      <td>2039.393277</td>\n",
       "      <td>NaN</td>\n",
       "    </tr>\n",
       "    <tr>\n",
       "      <th>976</th>\n",
       "      <td>Fiji</td>\n",
       "      <td>Oceania</td>\n",
       "      <td>1967</td>\n",
       "      <td>58607.0</td>\n",
       "      <td>485000.0</td>\n",
       "      <td>2170.073285</td>\n",
       "      <td>NaN</td>\n",
       "    </tr>\n",
       "    <tr>\n",
       "      <th>977</th>\n",
       "      <td>Fiji</td>\n",
       "      <td>Oceania</td>\n",
       "      <td>1972</td>\n",
       "      <td>60642.0</td>\n",
       "      <td>544000.0</td>\n",
       "      <td>2797.759484</td>\n",
       "      <td>NaN</td>\n",
       "    </tr>\n",
       "    <tr>\n",
       "      <th>978</th>\n",
       "      <td>Fiji</td>\n",
       "      <td>Oceania</td>\n",
       "      <td>1977</td>\n",
       "      <td>62669.0</td>\n",
       "      <td>599339.0</td>\n",
       "      <td>3182.569600</td>\n",
       "      <td>NaN</td>\n",
       "    </tr>\n",
       "    <tr>\n",
       "      <th>979</th>\n",
       "      <td>Fiji</td>\n",
       "      <td>Oceania</td>\n",
       "      <td>1982</td>\n",
       "      <td>64683.0</td>\n",
       "      <td>658906.0</td>\n",
       "      <td>3209.257468</td>\n",
       "      <td>NaN</td>\n",
       "    </tr>\n",
       "  </tbody>\n",
       "</table>\n",
       "</div>"
      ],
      "text/plain": [
       "     Pais continente   Ano  Expectativa de vida  Pop Total          PIB  \\\n",
       "975  Fiji    Oceania  1962              56494.0   421869.0  2039.393277   \n",
       "976  Fiji    Oceania  1967              58607.0   485000.0  2170.073285   \n",
       "977  Fiji    Oceania  1972              60642.0   544000.0  2797.759484   \n",
       "978  Fiji    Oceania  1977              62669.0   599339.0  3182.569600   \n",
       "979  Fiji    Oceania  1982              64683.0   658906.0  3209.257468   \n",
       "\n",
       "     Unnamed: 6  \n",
       "975         NaN  \n",
       "976         NaN  \n",
       "977         NaN  \n",
       "978         NaN  \n",
       "979         NaN  "
      ]
     },
     "execution_count": 21,
     "metadata": {},
     "output_type": "execute_result"
    }
   ],
   "source": [
    "Oceania = df.loc[df['continente'] == 'Oceania']\n",
    "Oceania.head()"
   ]
  },
  {
   "cell_type": "code",
   "execution_count": 22,
   "metadata": {},
   "outputs": [
    {
     "data": {
      "text/plain": [
       "continente\n",
       " China         1\n",
       " Dem. Rep.     1\n",
       " Rep.          1\n",
       "Africa        22\n",
       "Americas      13\n",
       "Asia           8\n",
       "Europe        16\n",
       "FSU            1\n",
       "Oceania        1\n",
       "Name: Pais, dtype: int64"
      ]
     },
     "execution_count": 22,
     "metadata": {},
     "output_type": "execute_result"
    }
   ],
   "source": [
    "df.groupby('continente')['Pais'].nunique()"
   ]
  },
  {
   "cell_type": "code",
   "execution_count": 24,
   "metadata": {},
   "outputs": [
    {
     "data": {
      "text/plain": [
       "Ano\n",
       "1950       7143.947685\n",
       "1951         66.494545\n",
       "1952      24849.332509\n",
       "1953         66.002460\n",
       "1954         66.718800\n",
       "1955         67.178513\n",
       "1956         67.438773\n",
       "1957      25304.991196\n",
       "1958         68.384033\n",
       "1959         66.663135\n",
       "1960         66.485615\n",
       "1961         67.197680\n",
       "1962      25834.865573\n",
       "1963         68.693556\n",
       "1964         69.178247\n",
       "1965         69.306073\n",
       "1966         69.617564\n",
       "1967      29028.812615\n",
       "1968         69.851382\n",
       "1969         69.890473\n",
       "1970         70.284618\n",
       "1971         70.459760\n",
       "1972      30931.774879\n",
       "1973         71.002369\n",
       "1974         70.870873\n",
       "1975         71.118080\n",
       "1976         71.267033\n",
       "1977      28139.045453\n",
       "1978         71.871302\n",
       "1979         72.180487\n",
       "1980         72.241105\n",
       "1981         72.544524\n",
       "1982      33696.974627\n",
       "1983         73.362000\n",
       "1984         73.679000\n",
       "1985         73.605000\n",
       "1986         73.897000\n",
       "1987      35018.647328\n",
       "1988         74.376000\n",
       "1989         74.422000\n",
       "1990         73.889167\n",
       "1991         74.148462\n",
       "1992      37168.269371\n",
       "1993         74.157692\n",
       "1994         74.244615\n",
       "1995         74.426923\n",
       "1996         74.851538\n",
       "1997      36181.354394\n",
       "1998         75.279231\n",
       "1999         75.500769\n",
       "2000         75.850000\n",
       "2001         76.106154\n",
       "2002      38934.775781\n",
       "2003         76.450000\n",
       "2004         76.872308\n",
       "2005         76.677500\n",
       "2006         78.595000\n",
       "2007      53197.006662\n",
       "Africa     1979.500000\n",
       "Name: Expectativa de vida, dtype: float64"
      ]
     },
     "execution_count": 24,
     "metadata": {},
     "output_type": "execute_result"
    }
   ],
   "source": [
    "df.groupby('Ano')['Expectativa de vida'].mean()"
   ]
  },
  {
   "cell_type": "code",
   "execution_count": 25,
   "metadata": {},
   "outputs": [
    {
     "data": {
      "text/plain": [
       "415065.3748768409"
      ]
     },
     "execution_count": 25,
     "metadata": {},
     "output_type": "execute_result"
    }
   ],
   "source": [
    "df['PIB'].mean()"
   ]
  },
  {
   "cell_type": "code",
   "execution_count": 26,
   "metadata": {},
   "outputs": [
    {
     "data": {
      "text/plain": [
       "560753321.4586118"
      ]
     },
     "execution_count": 26,
     "metadata": {},
     "output_type": "execute_result"
    }
   ],
   "source": [
    "df['PIB'].sum()"
   ]
  },
  {
   "cell_type": "code",
   "execution_count": null,
   "metadata": {},
   "outputs": [],
   "source": []
  }
 ],
 "metadata": {
  "kernelspec": {
   "display_name": "Python 3",
   "language": "python",
   "name": "python3"
  },
  "language_info": {
   "codemirror_mode": {
    "name": "ipython",
    "version": 3
   },
   "file_extension": ".py",
   "mimetype": "text/x-python",
   "name": "python",
   "nbconvert_exporter": "python",
   "pygments_lexer": "ipython3",
   "version": "3.7.6"
  }
 },
 "nbformat": 4,
 "nbformat_minor": 4
}
